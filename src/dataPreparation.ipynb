{
 "cells": [
  {
   "cell_type": "code",
   "execution_count": 1,
   "metadata": {},
   "outputs": [],
   "source": [
    "import pandas as pd\n",
    "import numpy as np"
   ]
  },
  {
   "cell_type": "code",
   "execution_count": 2,
   "metadata": {},
   "outputs": [
    {
     "data": {
      "text/html": [
       "<div>\n",
       "<style scoped>\n",
       "    .dataframe tbody tr th:only-of-type {\n",
       "        vertical-align: middle;\n",
       "    }\n",
       "\n",
       "    .dataframe tbody tr th {\n",
       "        vertical-align: top;\n",
       "    }\n",
       "\n",
       "    .dataframe thead th {\n",
       "        text-align: right;\n",
       "    }\n",
       "</style>\n",
       "<table border=\"1\" class=\"dataframe\">\n",
       "  <thead>\n",
       "    <tr style=\"text-align: right;\">\n",
       "      <th></th>\n",
       "      <th>Unnamed: 0</th>\n",
       "      <th>date</th>\n",
       "      <th>title</th>\n",
       "      <th>text</th>\n",
       "      <th>sentiment</th>\n",
       "      <th>sentiment confidence</th>\n",
       "    </tr>\n",
       "  </thead>\n",
       "  <tbody>\n",
       "    <tr>\n",
       "      <th>0</th>\n",
       "      <td>0</td>\n",
       "      <td>Thu, 21 Apr 2022 10:25:31 -0400</td>\n",
       "      <td>Mexican Football Club Tigres Now Accepts Bitco...</td>\n",
       "      <td>Tigres supporters can purchase match tickets w...</td>\n",
       "      <td>neutral</td>\n",
       "      <td>0.980093</td>\n",
       "    </tr>\n",
       "    <tr>\n",
       "      <th>1</th>\n",
       "      <td>1</td>\n",
       "      <td>Thu, 21 Apr 2022 10:14:42 -0400</td>\n",
       "      <td>SFLMaven To Accept Bitcoin As Payment, Add BTC...</td>\n",
       "      <td>Luxury jewelry reseller SFLMaven announced the...</td>\n",
       "      <td>neutral</td>\n",
       "      <td>0.878789</td>\n",
       "    </tr>\n",
       "    <tr>\n",
       "      <th>2</th>\n",
       "      <td>2</td>\n",
       "      <td>Thu, 21 Apr 2022 09:37:51 -0400</td>\n",
       "      <td>Bitcoin, Ethereum Technical Analysis: BTC up t...</td>\n",
       "      <td>BTC was once again trading higher, as bullish ...</td>\n",
       "      <td>positive</td>\n",
       "      <td>0.999611</td>\n",
       "    </tr>\n",
       "  </tbody>\n",
       "</table>\n",
       "</div>"
      ],
      "text/plain": [
       "   Unnamed: 0                             date  \\\n",
       "0           0  Thu, 21 Apr 2022 10:25:31 -0400   \n",
       "1           1  Thu, 21 Apr 2022 10:14:42 -0400   \n",
       "2           2  Thu, 21 Apr 2022 09:37:51 -0400   \n",
       "\n",
       "                                               title  \\\n",
       "0  Mexican Football Club Tigres Now Accepts Bitco...   \n",
       "1  SFLMaven To Accept Bitcoin As Payment, Add BTC...   \n",
       "2  Bitcoin, Ethereum Technical Analysis: BTC up t...   \n",
       "\n",
       "                                                text sentiment  \\\n",
       "0  Tigres supporters can purchase match tickets w...   neutral   \n",
       "1  Luxury jewelry reseller SFLMaven announced the...   neutral   \n",
       "2  BTC was once again trading higher, as bullish ...  positive   \n",
       "\n",
       "   sentiment confidence  \n",
       "0              0.980093  \n",
       "1              0.878789  \n",
       "2              0.999611  "
      ]
     },
     "execution_count": 2,
     "metadata": {},
     "output_type": "execute_result"
    }
   ],
   "source": [
    "df = pd.read_csv(\"data/news/results_BERT.csv\")\n",
    "df.head(3)"
   ]
  },
  {
   "cell_type": "code",
   "execution_count": 3,
   "metadata": {},
   "outputs": [
    {
     "name": "stdout",
     "output_type": "stream",
     "text": [
      "neutral     1735\n",
      "positive    1097\n",
      "negative     437\n",
      "Name: sentiment, dtype: int64\n"
     ]
    },
    {
     "name": "stderr",
     "output_type": "stream",
     "text": [
      "/var/folders/xz/xnfjgfvn0yg69wvj2svb7crr0000gn/T/ipykernel_7407/3365207449.py:7: SettingWithCopyWarning: \n",
      "A value is trying to be set on a copy of a slice from a DataFrame\n",
      "\n",
      "See the caveats in the documentation: https://pandas.pydata.org/pandas-docs/stable/user_guide/indexing.html#returning-a-view-versus-a-copy\n",
      "  df[\"date\"][index] = row[\"date\"][5:-15]\n"
     ]
    },
    {
     "data": {
      "text/html": [
       "<div>\n",
       "<style scoped>\n",
       "    .dataframe tbody tr th:only-of-type {\n",
       "        vertical-align: middle;\n",
       "    }\n",
       "\n",
       "    .dataframe tbody tr th {\n",
       "        vertical-align: top;\n",
       "    }\n",
       "\n",
       "    .dataframe thead th {\n",
       "        text-align: right;\n",
       "    }\n",
       "</style>\n",
       "<table border=\"1\" class=\"dataframe\">\n",
       "  <thead>\n",
       "    <tr style=\"text-align: right;\">\n",
       "      <th></th>\n",
       "      <th>Unnamed: 0</th>\n",
       "      <th>date</th>\n",
       "      <th>title</th>\n",
       "      <th>text</th>\n",
       "      <th>sentiment</th>\n",
       "      <th>sentiment confidence</th>\n",
       "    </tr>\n",
       "  </thead>\n",
       "  <tbody>\n",
       "    <tr>\n",
       "      <th>0</th>\n",
       "      <td>0</td>\n",
       "      <td>21 Apr 2022</td>\n",
       "      <td>Mexican Football Club Tigres Now Accepts Bitco...</td>\n",
       "      <td>Tigres supporters can purchase match tickets w...</td>\n",
       "      <td>neutral</td>\n",
       "      <td>0.980093</td>\n",
       "    </tr>\n",
       "    <tr>\n",
       "      <th>1</th>\n",
       "      <td>1</td>\n",
       "      <td>21 Apr 2022</td>\n",
       "      <td>SFLMaven To Accept Bitcoin As Payment, Add BTC...</td>\n",
       "      <td>Luxury jewelry reseller SFLMaven announced the...</td>\n",
       "      <td>neutral</td>\n",
       "      <td>0.878789</td>\n",
       "    </tr>\n",
       "  </tbody>\n",
       "</table>\n",
       "</div>"
      ],
      "text/plain": [
       "   Unnamed: 0         date                                              title  \\\n",
       "0           0  21 Apr 2022  Mexican Football Club Tigres Now Accepts Bitco...   \n",
       "1           1  21 Apr 2022  SFLMaven To Accept Bitcoin As Payment, Add BTC...   \n",
       "\n",
       "                                                text sentiment  \\\n",
       "0  Tigres supporters can purchase match tickets w...   neutral   \n",
       "1  Luxury jewelry reseller SFLMaven announced the...   neutral   \n",
       "\n",
       "   sentiment confidence  \n",
       "0              0.980093  \n",
       "1              0.878789  "
      ]
     },
     "execution_count": 3,
     "metadata": {},
     "output_type": "execute_result"
    }
   ],
   "source": [
    "# filter out 'uncertain' articles with sentiment confident score < 0.8\n",
    "df = df[df[\"sentiment confidence\"] > 0.8]\n",
    "\n",
    "print(df[\"sentiment\"].value_counts())\n",
    "\n",
    "for index, row in df.iterrows():\n",
    "  df[\"date\"][index] = row[\"date\"][5:-15]\n",
    "\n",
    "df.head(2)"
   ]
  },
  {
   "cell_type": "code",
   "execution_count": 4,
   "metadata": {},
   "outputs": [],
   "source": [
    "df = df.reset_index()  # make sure indexes pair with number of rows"
   ]
  },
  {
   "cell_type": "code",
   "execution_count": 5,
   "metadata": {},
   "outputs": [],
   "source": [
    "# gather negative, positive, neutral count of articles for each day\n",
    "results = np.empty((0,4)) # date and sentiment counts\n",
    "counts = {\n",
    "  \"positive\": 0,\n",
    "  \"neutral\": 0,\n",
    "  \"negative\": 0\n",
    "}\n",
    "counts[df.loc[0][\"sentiment\"]] # initialise with the first row\n",
    "for index, row in df.loc[1:].iterrows():\n",
    "  if not row[\"date\"] == df.loc[index-1][\"date\"]:\n",
    "    results = np.vstack((results, [df.loc[index-1][\"date\"], counts[\"positive\"], counts[\"neutral\"], counts[\"negative\"]]))\n",
    "    counts[\"positive\"] = counts[\"neutral\"] = counts[\"negative\"] = 0\n",
    "  counts[row[\"sentiment\"]] += 1"
   ]
  },
  {
   "cell_type": "code",
   "execution_count": 6,
   "metadata": {},
   "outputs": [],
   "source": [
    "# add these columns together with the price, volume and other\n",
    "df = pd.read_csv(\"data/BTC-USD.csv\")\n",
    "\n",
    "df = df.tail(491)\n",
    "df = df.reset_index()  # make sure indexes pair with number of rows"
   ]
  },
  {
   "cell_type": "code",
   "execution_count": 7,
   "metadata": {},
   "outputs": [],
   "source": [
    "results = np.flip(results, axis=0)"
   ]
  },
  {
   "cell_type": "code",
   "execution_count": 8,
   "metadata": {},
   "outputs": [
    {
     "data": {
      "text/html": [
       "<div>\n",
       "<style scoped>\n",
       "    .dataframe tbody tr th:only-of-type {\n",
       "        vertical-align: middle;\n",
       "    }\n",
       "\n",
       "    .dataframe tbody tr th {\n",
       "        vertical-align: top;\n",
       "    }\n",
       "\n",
       "    .dataframe thead th {\n",
       "        text-align: right;\n",
       "    }\n",
       "</style>\n",
       "<table border=\"1\" class=\"dataframe\">\n",
       "  <thead>\n",
       "    <tr style=\"text-align: right;\">\n",
       "      <th></th>\n",
       "      <th>index</th>\n",
       "      <th>Date</th>\n",
       "      <th>Open</th>\n",
       "      <th>High</th>\n",
       "      <th>Low</th>\n",
       "      <th>Close</th>\n",
       "      <th>Adj Close</th>\n",
       "      <th>Volume</th>\n",
       "    </tr>\n",
       "  </thead>\n",
       "  <tbody>\n",
       "    <tr>\n",
       "      <th>0</th>\n",
       "      <td>2283</td>\n",
       "      <td>2020-12-17</td>\n",
       "      <td>21308.351563</td>\n",
       "      <td>23642.660156</td>\n",
       "      <td>21234.675781</td>\n",
       "      <td>22805.162109</td>\n",
       "      <td>22805.162109</td>\n",
       "      <td>71378606374</td>\n",
       "    </tr>\n",
       "    <tr>\n",
       "      <th>1</th>\n",
       "      <td>2284</td>\n",
       "      <td>2020-12-18</td>\n",
       "      <td>22806.796875</td>\n",
       "      <td>23238.601563</td>\n",
       "      <td>22399.812500</td>\n",
       "      <td>23137.960938</td>\n",
       "      <td>23137.960938</td>\n",
       "      <td>40387896275</td>\n",
       "    </tr>\n",
       "  </tbody>\n",
       "</table>\n",
       "</div>"
      ],
      "text/plain": [
       "   index        Date          Open          High           Low         Close  \\\n",
       "0   2283  2020-12-17  21308.351563  23642.660156  21234.675781  22805.162109   \n",
       "1   2284  2020-12-18  22806.796875  23238.601563  22399.812500  23137.960938   \n",
       "\n",
       "      Adj Close       Volume  \n",
       "0  22805.162109  71378606374  \n",
       "1  23137.960938  40387896275  "
      ]
     },
     "execution_count": 8,
     "metadata": {},
     "output_type": "execute_result"
    }
   ],
   "source": [
    "df.head(2)"
   ]
  },
  {
   "cell_type": "code",
   "execution_count": 10,
   "metadata": {},
   "outputs": [
    {
     "data": {
      "text/plain": [
       "array([['2020-12-17', '21308.351563', '23642.660156', ..., '2', '3', '0'],\n",
       "       ['2020-12-18', '22806.796875', '23238.601563', ..., '3', '2', '0'],\n",
       "       ['2020-12-19', '23132.865234', '24085.855469', ..., '0', '1', '0'],\n",
       "       ...,\n",
       "       ['2022-04-19', '40828.175781', '41672.960938', ..., '2', '8', '0'],\n",
       "       ['2022-04-20', '41501.746094', '42126.300781', ..., '5', '3', '0'],\n",
       "       ['2022-04-21', '41392.863281', '42878.453125', ..., '1', '1', '0']],\n",
       "      dtype='<U32')"
      ]
     },
     "execution_count": 10,
     "metadata": {},
     "output_type": "execute_result"
    }
   ],
   "source": [
    "resultsFinal = np.empty((0, 10))\n",
    "off = 0\n",
    "for index, row in df.iterrows():\n",
    "  temp = row.tolist()[1:]\n",
    "  if not row[\"Date\"][-2:] == results[index-off][0][:2]:\n",
    "    off += 1\n",
    "    temp.append(0)\n",
    "    temp.append(0)\n",
    "    temp.append(0)\n",
    "    continue  \n",
    "  temp.append(results[index-off][1])\n",
    "  temp.append(results[index-off][2])\n",
    "  temp.append(results[index-off][3])\n",
    "  resultsFinal = np.vstack((resultsFinal, temp))\n",
    "\n",
    "resultsFinal\n",
    "  "
   ]
  },
  {
   "cell_type": "code",
   "execution_count": 12,
   "metadata": {},
   "outputs": [
    {
     "data": {
      "text/html": [
       "<div>\n",
       "<style scoped>\n",
       "    .dataframe tbody tr th:only-of-type {\n",
       "        vertical-align: middle;\n",
       "    }\n",
       "\n",
       "    .dataframe tbody tr th {\n",
       "        vertical-align: top;\n",
       "    }\n",
       "\n",
       "    .dataframe thead th {\n",
       "        text-align: right;\n",
       "    }\n",
       "</style>\n",
       "<table border=\"1\" class=\"dataframe\">\n",
       "  <thead>\n",
       "    <tr style=\"text-align: right;\">\n",
       "      <th></th>\n",
       "      <th>Date</th>\n",
       "      <th>Open</th>\n",
       "      <th>High</th>\n",
       "      <th>Low</th>\n",
       "      <th>Close</th>\n",
       "      <th>Adj Close</th>\n",
       "      <th>Volume</th>\n",
       "      <th>positive</th>\n",
       "      <th>neutral</th>\n",
       "      <th>negative</th>\n",
       "    </tr>\n",
       "  </thead>\n",
       "  <tbody>\n",
       "    <tr>\n",
       "      <th>0</th>\n",
       "      <td>2020-12-17</td>\n",
       "      <td>21308.351563</td>\n",
       "      <td>23642.660156</td>\n",
       "      <td>21234.675781</td>\n",
       "      <td>22805.162109</td>\n",
       "      <td>22805.162109</td>\n",
       "      <td>71378606374</td>\n",
       "      <td>2</td>\n",
       "      <td>3</td>\n",
       "      <td>0</td>\n",
       "    </tr>\n",
       "    <tr>\n",
       "      <th>1</th>\n",
       "      <td>2020-12-18</td>\n",
       "      <td>22806.796875</td>\n",
       "      <td>23238.601563</td>\n",
       "      <td>22399.8125</td>\n",
       "      <td>23137.960938</td>\n",
       "      <td>23137.960938</td>\n",
       "      <td>40387896275</td>\n",
       "      <td>3</td>\n",
       "      <td>2</td>\n",
       "      <td>0</td>\n",
       "    </tr>\n",
       "  </tbody>\n",
       "</table>\n",
       "</div>"
      ],
      "text/plain": [
       "         Date          Open          High           Low         Close  \\\n",
       "0  2020-12-17  21308.351563  23642.660156  21234.675781  22805.162109   \n",
       "1  2020-12-18  22806.796875  23238.601563    22399.8125  23137.960938   \n",
       "\n",
       "      Adj Close       Volume positive neutral negative  \n",
       "0  22805.162109  71378606374        2       3        0  \n",
       "1  23137.960938  40387896275        3       2        0  "
      ]
     },
     "execution_count": 12,
     "metadata": {},
     "output_type": "execute_result"
    }
   ],
   "source": [
    "columns = df.columns.values.tolist()[1:]\n",
    "columns.append(\"positive\")\n",
    "columns.append(\"neutral\")\n",
    "columns.append(\"negative\")\n",
    "\n",
    "dfFinal = pd.DataFrame(resultsFinal, columns=columns)\n",
    "dfFinal.head(2)"
   ]
  },
  {
   "cell_type": "code",
   "execution_count": 13,
   "metadata": {},
   "outputs": [],
   "source": [
    "dfFinal.to_csv(\"BTC-USD-NEWS.csv\")"
   ]
  },
  {
   "cell_type": "code",
   "execution_count": null,
   "metadata": {},
   "outputs": [],
   "source": []
  }
 ],
 "metadata": {
  "interpreter": {
   "hash": "922f3f0f14de93c55527dbc5ad53b281c54eefd8b075b625f5e98225241459c0"
  },
  "kernelspec": {
   "display_name": "Python 3.8.11 ('project-56ryZJ7i')",
   "language": "python",
   "name": "python3"
  },
  "language_info": {
   "codemirror_mode": {
    "name": "ipython",
    "version": 3
   },
   "file_extension": ".py",
   "mimetype": "text/x-python",
   "name": "python",
   "nbconvert_exporter": "python",
   "pygments_lexer": "ipython3",
   "version": "3.8.11"
  },
  "orig_nbformat": 4
 },
 "nbformat": 4,
 "nbformat_minor": 2
}
