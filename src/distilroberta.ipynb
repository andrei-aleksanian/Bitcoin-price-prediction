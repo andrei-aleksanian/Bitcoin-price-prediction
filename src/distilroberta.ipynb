{
 "cells": [
  {
   "cell_type": "code",
   "execution_count": 1,
   "metadata": {},
   "outputs": [
    {
     "name": "stderr",
     "output_type": "stream",
     "text": [
      "/Users/andreialeksanian/.local/share/virtualenvs/project-56ryZJ7i/lib/python3.8/site-packages/tqdm/auto.py:22: TqdmWarning: IProgress not found. Please update jupyter and ipywidgets. See https://ipywidgets.readthedocs.io/en/stable/user_install.html\n",
      "  from .autonotebook import tqdm as notebook_tqdm\n"
     ]
    }
   ],
   "source": [
    "from transformers import AutoModelForSequenceClassification, AutoTokenizer\n",
    "\n",
    "import torch \n",
    "import numpy as np\n",
    "import pandas as pd"
   ]
  },
  {
   "cell_type": "code",
   "execution_count": 2,
   "metadata": {},
   "outputs": [
    {
     "data": {
      "text/html": [
       "<div>\n",
       "<style scoped>\n",
       "    .dataframe tbody tr th:only-of-type {\n",
       "        vertical-align: middle;\n",
       "    }\n",
       "\n",
       "    .dataframe tbody tr th {\n",
       "        vertical-align: top;\n",
       "    }\n",
       "\n",
       "    .dataframe thead th {\n",
       "        text-align: right;\n",
       "    }\n",
       "</style>\n",
       "<table border=\"1\" class=\"dataframe\">\n",
       "  <thead>\n",
       "    <tr style=\"text-align: right;\">\n",
       "      <th></th>\n",
       "      <th>date</th>\n",
       "      <th>title</th>\n",
       "      <th>text</th>\n",
       "    </tr>\n",
       "  </thead>\n",
       "  <tbody>\n",
       "    <tr>\n",
       "      <th>0</th>\n",
       "      <td>Thu, 21 Apr 2022 10:25:31 -0400</td>\n",
       "      <td>Mexican Football Club Tigres Now Accepts Bitco...</td>\n",
       "      <td>Tigres supporters can purchase match tickets w...</td>\n",
       "    </tr>\n",
       "    <tr>\n",
       "      <th>1</th>\n",
       "      <td>Thu, 21 Apr 2022 10:14:42 -0400</td>\n",
       "      <td>SFLMaven To Accept Bitcoin As Payment, Add BTC...</td>\n",
       "      <td>Luxury jewelry reseller SFLMaven announced the...</td>\n",
       "    </tr>\n",
       "    <tr>\n",
       "      <th>2</th>\n",
       "      <td>Thu, 21 Apr 2022 09:37:51 -0400</td>\n",
       "      <td>Bitcoin, Ethereum Technical Analysis: BTC up t...</td>\n",
       "      <td>BTC was once again trading higher, as bullish ...</td>\n",
       "    </tr>\n",
       "    <tr>\n",
       "      <th>3</th>\n",
       "      <td>Wed, 20 Apr 2022 20:30:00 -0400</td>\n",
       "      <td>Bitcoin And A World Of Rules Without Rulers</td>\n",
       "      <td>Bitcoin offers an opportunity for society to m...</td>\n",
       "    </tr>\n",
       "    <tr>\n",
       "      <th>4</th>\n",
       "      <td>Wed, 20 Apr 2022 18:05:58 -0400</td>\n",
       "      <td>U.S Treasury Sanctions Russian Bitcoin Miners</td>\n",
       "      <td>The Treasury department announced sanctions ag...</td>\n",
       "    </tr>\n",
       "  </tbody>\n",
       "</table>\n",
       "</div>"
      ],
      "text/plain": [
       "                              date  \\\n",
       "0  Thu, 21 Apr 2022 10:25:31 -0400   \n",
       "1  Thu, 21 Apr 2022 10:14:42 -0400   \n",
       "2  Thu, 21 Apr 2022 09:37:51 -0400   \n",
       "3  Wed, 20 Apr 2022 20:30:00 -0400   \n",
       "4  Wed, 20 Apr 2022 18:05:58 -0400   \n",
       "\n",
       "                                               title  \\\n",
       "0  Mexican Football Club Tigres Now Accepts Bitco...   \n",
       "1  SFLMaven To Accept Bitcoin As Payment, Add BTC...   \n",
       "2  Bitcoin, Ethereum Technical Analysis: BTC up t...   \n",
       "3        Bitcoin And A World Of Rules Without Rulers   \n",
       "4      U.S Treasury Sanctions Russian Bitcoin Miners   \n",
       "\n",
       "                                                text  \n",
       "0  Tigres supporters can purchase match tickets w...  \n",
       "1  Luxury jewelry reseller SFLMaven announced the...  \n",
       "2  BTC was once again trading higher, as bullish ...  \n",
       "3  Bitcoin offers an opportunity for society to m...  \n",
       "4  The Treasury department announced sanctions ag...  "
      ]
     },
     "execution_count": 2,
     "metadata": {},
     "output_type": "execute_result"
    }
   ],
   "source": [
    "df = pd.read_csv(\"data/news/bitcoin.csv\")\n",
    "df = df[[\"date\", \"title\", \"text\"]]\n",
    "df.head()"
   ]
  },
  {
   "cell_type": "code",
   "execution_count": 3,
   "metadata": {},
   "outputs": [
    {
     "name": "stdout",
     "output_type": "stream",
     "text": [
      "3500\n",
      "126\n"
     ]
    }
   ],
   "source": [
    "def process_batch(batch):\n",
    "  tokenizer = AutoTokenizer.from_pretrained(\"mrm8488/distilroberta-finetuned-financial-news-sentiment-analysis\")\n",
    "  modelInput = tokenizer(batch, padding=True, truncation=True, return_tensors=\"pt\")\n",
    "  return model(**modelInput)\n",
    "\n",
    "inputs = df[\"title\"] + \" \" + df[\"text\"]\n",
    "inputs = inputs.tolist()\n",
    "\n",
    "model = AutoModelForSequenceClassification.from_pretrained(\"mrm8488/distilroberta-finetuned-financial-news-sentiment-analysis\")\n",
    "\n",
    "step = 100\n",
    "results = np.empty((0, 3))\n",
    "for i in range(0, len(inputs)-step, step):\n",
    "  batch = inputs[i:i+step]\n",
    "  outputs = process_batch(batch)\n",
    "  results = np.vstack((results, torch.nn.functional.softmax(outputs.logits, dim = -1).detach().numpy()))\n",
    "\n",
    "print(len(results))\n",
    "print(len(inputs) - i)\n",
    "\n",
    "# don't forget the remaining data from inputs\n",
    "outputs = process_batch(inputs[i+step:])\n",
    "results = np.vstack((results, torch.nn.functional.softmax(outputs.logits, dim = -1).detach().numpy()))"
   ]
  },
  {
   "cell_type": "code",
   "execution_count": 4,
   "metadata": {},
   "outputs": [],
   "source": [
    "model_labels = model.config.id2label\n",
    "\n",
    "results_sentiment_confidence = np.max(results, axis=1)\n",
    "results_label_indices = np.argmax(results, axis=1)\n",
    "results_labelled = list(map(lambda x : model_labels[x], results_label_indices))\n",
    "\n",
    "df[\"sentiment\"] = results_labelled\n",
    "df[\"sentiment confidence\"] = results_sentiment_confidence\n",
    "\n",
    "df.to_csv(\"results_BERT.csv\")"
   ]
  }
 ],
 "metadata": {
  "interpreter": {
   "hash": "922f3f0f14de93c55527dbc5ad53b281c54eefd8b075b625f5e98225241459c0"
  },
  "kernelspec": {
   "display_name": "Python 3.8.11 ('project-56ryZJ7i')",
   "language": "python",
   "name": "python3"
  },
  "language_info": {
   "codemirror_mode": {
    "name": "ipython",
    "version": 3
   },
   "file_extension": ".py",
   "mimetype": "text/x-python",
   "name": "python",
   "nbconvert_exporter": "python",
   "pygments_lexer": "ipython3",
   "version": "3.8.11"
  },
  "orig_nbformat": 4
 },
 "nbformat": 4,
 "nbformat_minor": 2
}
