{
 "cells": [
  {
   "cell_type": "code",
   "execution_count": 1,
   "metadata": {},
   "outputs": [],
   "source": [
    "from utils.loadData import loadDataWithNews\n",
    "from lstm.preprocessing import prepareTestSetMultiDimensional, getDatasetsMultiDimensional, normalizeAtOnce\n",
    "from lstm.model import getModel, evaluateModelQuick, evaluateFinal\n",
    "from lstm.visualization import visualize_loss, show_batch, show_data_simple, showRegressionExampleMultiDimensional\n",
    "from lstm.callbacks import es_callback, modelckpt_callback"
   ]
  },
  {
   "cell_type": "code",
   "execution_count": 2,
   "metadata": {},
   "outputs": [
    {
     "data": {
      "text/html": [
       "<div>\n",
       "<style scoped>\n",
       "    .dataframe tbody tr th:only-of-type {\n",
       "        vertical-align: middle;\n",
       "    }\n",
       "\n",
       "    .dataframe tbody tr th {\n",
       "        vertical-align: top;\n",
       "    }\n",
       "\n",
       "    .dataframe thead th {\n",
       "        text-align: right;\n",
       "    }\n",
       "</style>\n",
       "<table border=\"1\" class=\"dataframe\">\n",
       "  <thead>\n",
       "    <tr style=\"text-align: right;\">\n",
       "      <th></th>\n",
       "      <th>Unnamed: 0</th>\n",
       "      <th>Date</th>\n",
       "      <th>Open</th>\n",
       "      <th>High</th>\n",
       "      <th>Low</th>\n",
       "      <th>Close</th>\n",
       "      <th>Adj Close</th>\n",
       "      <th>Volume</th>\n",
       "      <th>positive</th>\n",
       "      <th>neutral</th>\n",
       "      <th>negative</th>\n",
       "    </tr>\n",
       "  </thead>\n",
       "  <tbody>\n",
       "    <tr>\n",
       "      <th>0</th>\n",
       "      <td>0</td>\n",
       "      <td>2020-12-17</td>\n",
       "      <td>21308.351563</td>\n",
       "      <td>23642.660156</td>\n",
       "      <td>21234.675781</td>\n",
       "      <td>22805.162109</td>\n",
       "      <td>22805.162109</td>\n",
       "      <td>71378606374</td>\n",
       "      <td>2</td>\n",
       "      <td>3</td>\n",
       "      <td>0</td>\n",
       "    </tr>\n",
       "    <tr>\n",
       "      <th>1</th>\n",
       "      <td>1</td>\n",
       "      <td>2020-12-18</td>\n",
       "      <td>22806.796875</td>\n",
       "      <td>23238.601563</td>\n",
       "      <td>22399.812500</td>\n",
       "      <td>23137.960938</td>\n",
       "      <td>23137.960938</td>\n",
       "      <td>40387896275</td>\n",
       "      <td>3</td>\n",
       "      <td>2</td>\n",
       "      <td>0</td>\n",
       "    </tr>\n",
       "    <tr>\n",
       "      <th>2</th>\n",
       "      <td>2</td>\n",
       "      <td>2020-12-19</td>\n",
       "      <td>23132.865234</td>\n",
       "      <td>24085.855469</td>\n",
       "      <td>22826.472656</td>\n",
       "      <td>23869.832031</td>\n",
       "      <td>23869.832031</td>\n",
       "      <td>38487546580</td>\n",
       "      <td>0</td>\n",
       "      <td>1</td>\n",
       "      <td>0</td>\n",
       "    </tr>\n",
       "    <tr>\n",
       "      <th>3</th>\n",
       "      <td>3</td>\n",
       "      <td>2020-12-20</td>\n",
       "      <td>23861.765625</td>\n",
       "      <td>24209.660156</td>\n",
       "      <td>23147.710938</td>\n",
       "      <td>23477.294922</td>\n",
       "      <td>23477.294922</td>\n",
       "      <td>37844228422</td>\n",
       "      <td>1</td>\n",
       "      <td>2</td>\n",
       "      <td>0</td>\n",
       "    </tr>\n",
       "    <tr>\n",
       "      <th>4</th>\n",
       "      <td>4</td>\n",
       "      <td>2020-12-21</td>\n",
       "      <td>23474.455078</td>\n",
       "      <td>24059.982422</td>\n",
       "      <td>22159.367188</td>\n",
       "      <td>22803.082031</td>\n",
       "      <td>22803.082031</td>\n",
       "      <td>45852713981</td>\n",
       "      <td>3</td>\n",
       "      <td>3</td>\n",
       "      <td>0</td>\n",
       "    </tr>\n",
       "  </tbody>\n",
       "</table>\n",
       "</div>"
      ],
      "text/plain": [
       "   Unnamed: 0       Date          Open          High           Low  \\\n",
       "0           0 2020-12-17  21308.351563  23642.660156  21234.675781   \n",
       "1           1 2020-12-18  22806.796875  23238.601563  22399.812500   \n",
       "2           2 2020-12-19  23132.865234  24085.855469  22826.472656   \n",
       "3           3 2020-12-20  23861.765625  24209.660156  23147.710938   \n",
       "4           4 2020-12-21  23474.455078  24059.982422  22159.367188   \n",
       "\n",
       "          Close     Adj Close       Volume  positive  neutral  negative  \n",
       "0  22805.162109  22805.162109  71378606374         2        3         0  \n",
       "1  23137.960938  23137.960938  40387896275         3        2         0  \n",
       "2  23869.832031  23869.832031  38487546580         0        1         0  \n",
       "3  23477.294922  23477.294922  37844228422         1        2         0  \n",
       "4  22803.082031  22803.082031  45852713981         3        3         0  "
      ]
     },
     "execution_count": 2,
     "metadata": {},
     "output_type": "execute_result"
    }
   ],
   "source": [
    "df = loadDataWithNews()\n",
    "df.head()"
   ]
  },
  {
   "cell_type": "code",
   "execution_count": 3,
   "metadata": {},
   "outputs": [
    {
     "data": {
      "image/png": "[encoded data removed]",
      "text/plain": [
       "<Figure size 432x288 with 1 Axes>"
      ]
     },
     "metadata": {
      "needs_background": "light"
     },
     "output_type": "display_data"
    }
   ],
   "source": [
    "features = df.loc[:, df.columns != 'Date']\n",
    "features = features.loc[:, features.columns != 'Unnamed: 0']\n",
    "features = features.loc[:, features.columns != 'Adj Close']\n",
    "normalized_data, scaler = normalizeAtOnce(features.iloc[:,:-3])\n",
    "show_data_simple(features[\"Close\"])"
   ]
  },
  {
   "cell_type": "code",
   "execution_count": 4,
   "metadata": {},
   "outputs": [
    {
     "name": "stderr",
     "output_type": "stream",
     "text": [
      "2022-04-22 11:30:38.370563: I tensorflow/core/platform/cpu_feature_guard.cc:151] This TensorFlow binary is optimized with oneAPI Deep Neural Network Library (oneDNN) to use the following CPU instructions in performance-critical operations:  AVX2 FMA\n",
      "To enable them in other operations, rebuild TensorFlow with the appropriate compiler flags.\n"
     ]
    },
    {
     "data": {
      "image/png": "[encoded data removed]",
      "text/plain": [
       "<Figure size 432x288 with 1 Axes>"
      ]
     },
     "metadata": {
      "needs_background": "light"
     },
     "output_type": "display_data"
    },
    {
     "name": "stdout",
     "output_type": "stream",
     "text": [
      "Input shape: (40, 10, 5)\n",
      "Target shape: (40,)\n"
     ]
    }
   ],
   "source": [
    "config = {\n",
    "    \"past\": 10,\n",
    "    \"future\": 10,\n",
    "    \"neurons\": 50,\n",
    "    \"batch_size\": 64,\n",
    "    \"epochs\": 20,\n",
    "    \"features\": normalized_data.shape[1]\n",
    "}\n",
    "\n",
    "dataset_train, dataset_val, x_test, y_test = getDatasetsMultiDimensional(config, normalized_data)\n",
    "\n",
    "\n",
    "for batch in dataset_val.take(1):\n",
    "    inputs, targets = batch\n",
    "    show_batch(inputs[0, :, 3], targets[:config[\"future\"]], config[\"past\"])\n",
    "\n",
    "print(\"Input shape:\", inputs.numpy().shape)\n",
    "print(\"Target shape:\", targets.numpy().shape)"
   ]
  },
  {
   "cell_type": "code",
   "execution_count": 5,
   "metadata": {},
   "outputs": [
    {
     "name": "stdout",
     "output_type": "stream",
     "text": [
      "Model: \"model\"\n",
      "_________________________________________________________________\n",
      " Layer (type)                Output Shape              Param #   \n",
      "=================================================================\n",
      " input_1 (InputLayer)        [(None, 10, 5)]           0         \n",
      "                                                                 \n",
      " lstm (LSTM)                 (None, 10, 50)            11200     \n",
      "                                                                 \n",
      " lstm_1 (LSTM)               (None, 50)                20200     \n",
      "                                                                 \n",
      " dense (Dense)               (None, 10)                510       \n",
      "                                                                 \n",
      "=================================================================\n",
      "Total params: 31,910\n",
      "Trainable params: 31,910\n",
      "Non-trainable params: 0\n",
      "_________________________________________________________________\n"
     ]
    }
   ],
   "source": [
    "model = getModel(config)\n",
    "model.summary()"
   ]
  },
  {
   "cell_type": "code",
   "execution_count": 6,
   "metadata": {},
   "outputs": [
    {
     "name": "stdout",
     "output_type": "stream",
     "text": [
      "Epoch 1/20\n",
      "5/6 [========================>.....] - ETA: 0s - loss: 0.2750 - rmse: 0.5244 \n",
      "Epoch 1: val_loss improved from inf to 0.08230, saving model to checkpoints/model_checkpoint.h5\n",
      "6/6 [==============================] - 4s 182ms/step - loss: 0.2706 - rmse: 0.5202 - val_loss: 0.0823 - val_rmse: 0.2869\n",
      "Epoch 2/20\n",
      "5/6 [========================>.....] - ETA: 0s - loss: 0.1458 - rmse: 0.3819\n",
      "Epoch 2: val_loss improved from 0.08230 to 0.02607, saving model to checkpoints/model_checkpoint.h5\n",
      "6/6 [==============================] - 0s 31ms/step - loss: 0.1379 - rmse: 0.3713 - val_loss: 0.0261 - val_rmse: 0.1615\n",
      "Epoch 3/20\n",
      "5/6 [========================>.....] - ETA: 0s - loss: 0.0465 - rmse: 0.2157\n",
      "Epoch 3: val_loss did not improve from 0.02607\n",
      "6/6 [==============================] - 0s 28ms/step - loss: 0.0442 - rmse: 0.2103 - val_loss: 0.0275 - val_rmse: 0.1659\n",
      "Epoch 4/20\n",
      "6/6 [==============================] - ETA: 0s - loss: 0.0276 - rmse: 0.1660\n",
      "Epoch 4: val_loss improved from 0.02607 to 0.02131, saving model to checkpoints/model_checkpoint.h5\n",
      "6/6 [==============================] - 0s 40ms/step - loss: 0.0276 - rmse: 0.1660 - val_loss: 0.0213 - val_rmse: 0.1460\n",
      "Epoch 5/20\n",
      "6/6 [==============================] - ETA: 0s - loss: 0.0217 - rmse: 0.1473\n",
      "Epoch 5: val_loss improved from 0.02131 to 0.00888, saving model to checkpoints/model_checkpoint.h5\n",
      "6/6 [==============================] - 0s 28ms/step - loss: 0.0217 - rmse: 0.1473 - val_loss: 0.0089 - val_rmse: 0.0943\n",
      "Epoch 6/20\n",
      "6/6 [==============================] - ETA: 0s - loss: 0.0183 - rmse: 0.1353\n",
      "Epoch 6: val_loss improved from 0.00888 to 0.00772, saving model to checkpoints/model_checkpoint.h5\n",
      "6/6 [==============================] - 0s 28ms/step - loss: 0.0183 - rmse: 0.1353 - val_loss: 0.0077 - val_rmse: 0.0878\n",
      "Epoch 7/20\n",
      "6/6 [==============================] - ETA: 0s - loss: 0.0161 - rmse: 0.1268\n",
      "Epoch 7: val_loss did not improve from 0.00772\n",
      "6/6 [==============================] - 0s 27ms/step - loss: 0.0161 - rmse: 0.1268 - val_loss: 0.0114 - val_rmse: 0.1066\n",
      "Epoch 8/20\n",
      "5/6 [========================>.....] - ETA: 0s - loss: 0.0161 - rmse: 0.1269\n",
      "Epoch 8: val_loss did not improve from 0.00772\n",
      "6/6 [==============================] - 0s 28ms/step - loss: 0.0153 - rmse: 0.1237 - val_loss: 0.0087 - val_rmse: 0.0934\n",
      "Epoch 9/20\n",
      "5/6 [========================>.....] - ETA: 0s - loss: 0.0156 - rmse: 0.1248\n",
      "Epoch 9: val_loss improved from 0.00772 to 0.00682, saving model to checkpoints/model_checkpoint.h5\n",
      "6/6 [==============================] - 0s 29ms/step - loss: 0.0144 - rmse: 0.1198 - val_loss: 0.0068 - val_rmse: 0.0826\n",
      "Epoch 10/20\n",
      "4/6 [===================>..........] - ETA: 0s - loss: 0.0127 - rmse: 0.1128\n",
      "Epoch 10: val_loss did not improve from 0.00682\n",
      "6/6 [==============================] - 0s 39ms/step - loss: 0.0139 - rmse: 0.1177 - val_loss: 0.0080 - val_rmse: 0.0895\n",
      "Epoch 11/20\n",
      "6/6 [==============================] - ETA: 0s - loss: 0.0140 - rmse: 0.1183\n",
      "Epoch 11: val_loss did not improve from 0.00682\n",
      "6/6 [==============================] - 0s 27ms/step - loss: 0.0140 - rmse: 0.1183 - val_loss: 0.0080 - val_rmse: 0.0894\n",
      "Epoch 12/20\n",
      "3/6 [==============>...............] - ETA: 0s - loss: 0.0157 - rmse: 0.1254\n",
      "Epoch 12: val_loss did not improve from 0.00682\n",
      "6/6 [==============================] - 0s 39ms/step - loss: 0.0140 - rmse: 0.1182 - val_loss: 0.0069 - val_rmse: 0.0829\n",
      "Epoch 13/20\n",
      "5/6 [========================>.....] - ETA: 0s - loss: 0.0145 - rmse: 0.1204\n",
      "Epoch 13: val_loss improved from 0.00682 to 0.00643, saving model to checkpoints/model_checkpoint.h5\n",
      "6/6 [==============================] - 0s 29ms/step - loss: 0.0137 - rmse: 0.1169 - val_loss: 0.0064 - val_rmse: 0.0802\n",
      "Epoch 14/20\n",
      "2/6 [=========>....................] - ETA: 0s - loss: 0.0131 - rmse: 0.1145\n",
      "Epoch 14: val_loss improved from 0.00643 to 0.00611, saving model to checkpoints/model_checkpoint.h5\n",
      "6/6 [==============================] - 0s 42ms/step - loss: 0.0129 - rmse: 0.1134 - val_loss: 0.0061 - val_rmse: 0.0782\n",
      "Epoch 15/20\n",
      "4/6 [===================>..........] - ETA: 0s - loss: 0.0113 - rmse: 0.1062\n",
      "Epoch 15: val_loss did not improve from 0.00611\n",
      "6/6 [==============================] - 0s 38ms/step - loss: 0.0118 - rmse: 0.1085 - val_loss: 0.0062 - val_rmse: 0.0789\n",
      "Epoch 16/20\n",
      "6/6 [==============================] - ETA: 0s - loss: 0.0116 - rmse: 0.1078\n",
      "Epoch 16: val_loss improved from 0.00611 to 0.00608, saving model to checkpoints/model_checkpoint.h5\n",
      "6/6 [==============================] - 0s 41ms/step - loss: 0.0116 - rmse: 0.1078 - val_loss: 0.0061 - val_rmse: 0.0780\n",
      "Epoch 17/20\n",
      "5/6 [========================>.....] - ETA: 0s - loss: 0.0127 - rmse: 0.1127\n",
      "Epoch 17: val_loss improved from 0.00608 to 0.00598, saving model to checkpoints/model_checkpoint.h5\n",
      "6/6 [==============================] - 0s 30ms/step - loss: 0.0122 - rmse: 0.1106 - val_loss: 0.0060 - val_rmse: 0.0773\n",
      "Epoch 18/20\n",
      "5/6 [========================>.....] - ETA: 0s - loss: 0.0129 - rmse: 0.1138\n",
      "Epoch 18: val_loss did not improve from 0.00598\n",
      "6/6 [==============================] - 0s 27ms/step - loss: 0.0126 - rmse: 0.1124 - val_loss: 0.0063 - val_rmse: 0.0794\n",
      "Epoch 19/20\n",
      "6/6 [==============================] - ETA: 0s - loss: 0.0119 - rmse: 0.1092\n",
      "Epoch 19: val_loss did not improve from 0.00598\n",
      "6/6 [==============================] - 0s 48ms/step - loss: 0.0119 - rmse: 0.1092 - val_loss: 0.0062 - val_rmse: 0.0785\n",
      "Epoch 20/20\n",
      "4/6 [===================>..........] - ETA: 0s - loss: 0.0124 - rmse: 0.1112\n",
      "Epoch 20: val_loss did not improve from 0.00598\n",
      "6/6 [==============================] - 0s 33ms/step - loss: 0.0122 - rmse: 0.1105 - val_loss: 0.0064 - val_rmse: 0.0803\n"
     ]
    },
    {
     "data": {
      "image/png": "[encoded data removed]",
      "text/plain": [
       "<Figure size 432x288 with 1 Axes>"
      ]
     },
     "metadata": {
      "needs_background": "light"
     },
     "output_type": "display_data"
    }
   ],
   "source": [
    "history = model.fit(\n",
    "    dataset_train,\n",
    "    epochs=config[\"epochs\"],\n",
    "    validation_data=dataset_val,\n",
    "    callbacks=[es_callback, modelckpt_callback],\n",
    ")\n",
    "visualize_loss(history)"
   ]
  },
  {
   "cell_type": "code",
   "execution_count": 7,
   "metadata": {},
   "outputs": [],
   "source": [
    "x, y = prepareTestSetMultiDimensional(x_test, y_test[:,3], config[\"past\"], config[\"future\"])"
   ]
  },
  {
   "cell_type": "code",
   "execution_count": 8,
   "metadata": {},
   "outputs": [
    {
     "name": "stdout",
     "output_type": "stream",
     "text": [
      "1/1 [==============================] - 1s 721ms/step - loss: 0.0079 - rmse: 0.0888\n",
      "---- TEST RESULTS ----\n",
      "MSE loss - 0.007877741008996964\n",
      "RMSE - 0.08875663578510284\n"
     ]
    }
   ],
   "source": [
    "evaluateModelQuick(model, x, y)"
   ]
  },
  {
   "cell_type": "code",
   "execution_count": 9,
   "metadata": {},
   "outputs": [
    {
     "data": {
      "image/png": "[encoded data removed]",
      "text/plain": [
       "<Figure size 432x288 with 1 Axes>"
      ]
     },
     "metadata": {
      "needs_background": "light"
     },
     "output_type": "display_data"
    }
   ],
   "source": [
    "showRegressionExampleMultiDimensional(x[0], y[0], model, scaler)"
   ]
  },
  {
   "cell_type": "code",
   "execution_count": 10,
   "metadata": {},
   "outputs": [
    {
     "name": "stdout",
     "output_type": "stream",
     "text": [
      "Training Started...\n",
      "Iterations:\n",
      "1\n",
      "2\n",
      "3\n",
      "4\n",
      "5\n",
      "6\n",
      "7\n",
      "8\n",
      "9\n",
      "10\n",
      "Done\n"
     ]
    }
   ],
   "source": [
    "evaluateFinal(getModel, dataset_train, dataset_val, config, \"regression_with_news\")"
   ]
  }
 ],
 "metadata": {
  "interpreter": {
   "hash": "922f3f0f14de93c55527dbc5ad53b281c54eefd8b075b625f5e98225241459c0"
  },
  "kernelspec": {
   "display_name": "Python 3.8.11 ('project-56ryZJ7i')",
   "language": "python",
   "name": "python3"
  },
  "language_info": {
   "codemirror_mode": {
    "name": "ipython",
    "version": 3
   },
   "file_extension": ".py",
   "mimetype": "text/x-python",
   "name": "python",
   "nbconvert_exporter": "python",
   "pygments_lexer": "ipython3",
   "version": "3.8.11"
  },
  "orig_nbformat": 4
 },
 "nbformat": 4,
 "nbformat_minor": 2
}
