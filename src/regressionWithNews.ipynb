{
 "cells": [
  {
   "cell_type": "code",
   "execution_count": 1,
   "metadata": {},
   "outputs": [],
   "source": [
    "import numpy as np\n",
    "\n",
    "from utils.loadData import loadDataWithNews\n",
    "from lstm.preprocessing import prepareTestSetMultiDimensional, getDatasetsMultiDimensional, normalizeAtOnce\n",
    "from lstm.model import getModel, evaluateModelQuick, evaluateFinal\n",
    "from lstm.visualization import visualize_loss, show_batch, show_data_simple, showRegressionExampleMultiDimensional\n",
    "from lstm.callbacks import es_callback, modelckpt_callback"
   ]
  },
  {
   "cell_type": "code",
   "execution_count": 2,
   "metadata": {},
   "outputs": [
    {
     "data": {
      "text/html": [
       "<div>\n",
       "<style scoped>\n",
       "    .dataframe tbody tr th:only-of-type {\n",
       "        vertical-align: middle;\n",
       "    }\n",
       "\n",
       "    .dataframe tbody tr th {\n",
       "        vertical-align: top;\n",
       "    }\n",
       "\n",
       "    .dataframe thead th {\n",
       "        text-align: right;\n",
       "    }\n",
       "</style>\n",
       "<table border=\"1\" class=\"dataframe\">\n",
       "  <thead>\n",
       "    <tr style=\"text-align: right;\">\n",
       "      <th></th>\n",
       "      <th>Unnamed: 0</th>\n",
       "      <th>Date</th>\n",
       "      <th>Open</th>\n",
       "      <th>High</th>\n",
       "      <th>Low</th>\n",
       "      <th>Close</th>\n",
       "      <th>Adj Close</th>\n",
       "      <th>Volume</th>\n",
       "      <th>positive</th>\n",
       "      <th>neutral</th>\n",
       "      <th>negative</th>\n",
       "    </tr>\n",
       "  </thead>\n",
       "  <tbody>\n",
       "    <tr>\n",
       "      <th>0</th>\n",
       "      <td>0</td>\n",
       "      <td>2020-12-17</td>\n",
       "      <td>21308.351563</td>\n",
       "      <td>23642.660156</td>\n",
       "      <td>21234.675781</td>\n",
       "      <td>22805.162109</td>\n",
       "      <td>22805.162109</td>\n",
       "      <td>71378606374</td>\n",
       "      <td>2</td>\n",
       "      <td>3</td>\n",
       "      <td>0</td>\n",
       "    </tr>\n",
       "    <tr>\n",
       "      <th>1</th>\n",
       "      <td>1</td>\n",
       "      <td>2020-12-18</td>\n",
       "      <td>22806.796875</td>\n",
       "      <td>23238.601563</td>\n",
       "      <td>22399.812500</td>\n",
       "      <td>23137.960938</td>\n",
       "      <td>23137.960938</td>\n",
       "      <td>40387896275</td>\n",
       "      <td>3</td>\n",
       "      <td>2</td>\n",
       "      <td>0</td>\n",
       "    </tr>\n",
       "    <tr>\n",
       "      <th>2</th>\n",
       "      <td>2</td>\n",
       "      <td>2020-12-19</td>\n",
       "      <td>23132.865234</td>\n",
       "      <td>24085.855469</td>\n",
       "      <td>22826.472656</td>\n",
       "      <td>23869.832031</td>\n",
       "      <td>23869.832031</td>\n",
       "      <td>38487546580</td>\n",
       "      <td>0</td>\n",
       "      <td>1</td>\n",
       "      <td>0</td>\n",
       "    </tr>\n",
       "    <tr>\n",
       "      <th>3</th>\n",
       "      <td>3</td>\n",
       "      <td>2020-12-20</td>\n",
       "      <td>23861.765625</td>\n",
       "      <td>24209.660156</td>\n",
       "      <td>23147.710938</td>\n",
       "      <td>23477.294922</td>\n",
       "      <td>23477.294922</td>\n",
       "      <td>37844228422</td>\n",
       "      <td>1</td>\n",
       "      <td>2</td>\n",
       "      <td>0</td>\n",
       "    </tr>\n",
       "    <tr>\n",
       "      <th>4</th>\n",
       "      <td>4</td>\n",
       "      <td>2020-12-21</td>\n",
       "      <td>23474.455078</td>\n",
       "      <td>24059.982422</td>\n",
       "      <td>22159.367188</td>\n",
       "      <td>22803.082031</td>\n",
       "      <td>22803.082031</td>\n",
       "      <td>45852713981</td>\n",
       "      <td>3</td>\n",
       "      <td>3</td>\n",
       "      <td>0</td>\n",
       "    </tr>\n",
       "  </tbody>\n",
       "</table>\n",
       "</div>"
      ],
      "text/plain": [
       "   Unnamed: 0       Date          Open          High           Low  \\\n",
       "0           0 2020-12-17  21308.351563  23642.660156  21234.675781   \n",
       "1           1 2020-12-18  22806.796875  23238.601563  22399.812500   \n",
       "2           2 2020-12-19  23132.865234  24085.855469  22826.472656   \n",
       "3           3 2020-12-20  23861.765625  24209.660156  23147.710938   \n",
       "4           4 2020-12-21  23474.455078  24059.982422  22159.367188   \n",
       "\n",
       "          Close     Adj Close       Volume  positive  neutral  negative  \n",
       "0  22805.162109  22805.162109  71378606374         2        3         0  \n",
       "1  23137.960938  23137.960938  40387896275         3        2         0  \n",
       "2  23869.832031  23869.832031  38487546580         0        1         0  \n",
       "3  23477.294922  23477.294922  37844228422         1        2         0  \n",
       "4  22803.082031  22803.082031  45852713981         3        3         0  "
      ]
     },
     "execution_count": 2,
     "metadata": {},
     "output_type": "execute_result"
    }
   ],
   "source": [
    "df = loadDataWithNews()\n",
    "df.head()"
   ]
  },
  {
   "cell_type": "code",
   "execution_count": 11,
   "metadata": {},
   "outputs": [
    {
     "data": {
      "image/png": "[encoded data removed]",
      "text/plain": [
       "<Figure size 432x288 with 1 Axes>"
      ]
     },
     "metadata": {
      "needs_background": "light"
     },
     "output_type": "display_data"
    }
   ],
   "source": [
    "features = df.loc[:, df.columns != 'Date']\n",
    "features = features.loc[:, features.columns != 'Unnamed: 0']\n",
    "normalized_data, scaler = normalizeAtOnce(features.iloc[:,:-3])\n",
    "show_data_simple(features[\"Close\"])"
   ]
  },
  {
   "cell_type": "code",
   "execution_count": 4,
   "metadata": {},
   "outputs": [
    {
     "name": "stderr",
     "output_type": "stream",
     "text": [
      "2022-04-22 10:07:11.695163: I tensorflow/core/platform/cpu_feature_guard.cc:151] This TensorFlow binary is optimized with oneAPI Deep Neural Network Library (oneDNN) to use the following CPU instructions in performance-critical operations:  AVX2 FMA\n",
      "To enable them in other operations, rebuild TensorFlow with the appropriate compiler flags.\n"
     ]
    },
    {
     "data": {
      "image/png": "[encoded data removed]",
      "text/plain": [
       "<Figure size 432x288 with 1 Axes>"
      ]
     },
     "metadata": {
      "needs_background": "light"
     },
     "output_type": "display_data"
    },
    {
     "name": "stdout",
     "output_type": "stream",
     "text": [
      "Input shape: (40, 10, 6)\n",
      "Target shape: (40,)\n"
     ]
    }
   ],
   "source": [
    "config = {\n",
    "    \"past\": 10,\n",
    "    \"future\": 10,\n",
    "    \"neurons\": 50,\n",
    "    \"batch_size\": 64,\n",
    "    \"epochs\": 20,\n",
    "    \"features\": normalized_data.shape[1]\n",
    "}\n",
    "\n",
    "dataset_train, dataset_val, x_test, y_test = getDatasetsMultiDimensional(config, normalized_data)\n",
    "\n",
    "\n",
    "for batch in dataset_val.take(1):\n",
    "    inputs, targets = batch\n",
    "    show_batch(inputs[0, :, 3], targets[:config[\"future\"]], config[\"past\"])\n",
    "\n",
    "print(\"Input shape:\", inputs.numpy().shape)\n",
    "print(\"Target shape:\", targets.numpy().shape)"
   ]
  },
  {
   "cell_type": "code",
   "execution_count": 5,
   "metadata": {},
   "outputs": [
    {
     "name": "stdout",
     "output_type": "stream",
     "text": [
      "Model: \"model\"\n",
      "_________________________________________________________________\n",
      " Layer (type)                Output Shape              Param #   \n",
      "=================================================================\n",
      " input_1 (InputLayer)        [(None, 10, 6)]           0         \n",
      "                                                                 \n",
      " lstm (LSTM)                 (None, 10, 50)            11400     \n",
      "                                                                 \n",
      " lstm_1 (LSTM)               (None, 50)                20200     \n",
      "                                                                 \n",
      " dense (Dense)               (None, 10)                510       \n",
      "                                                                 \n",
      "=================================================================\n",
      "Total params: 32,110\n",
      "Trainable params: 32,110\n",
      "Non-trainable params: 0\n",
      "_________________________________________________________________\n"
     ]
    }
   ],
   "source": [
    "model = getModel(config)\n",
    "model.summary()"
   ]
  },
  {
   "cell_type": "code",
   "execution_count": 6,
   "metadata": {},
   "outputs": [
    {
     "name": "stdout",
     "output_type": "stream",
     "text": [
      "Epoch 1/20\n",
      "5/6 [========================>.....] - ETA: 0s - loss: 0.2960 - rmse: 0.5440 \n",
      "Epoch 1: val_loss improved from inf to 0.08322, saving model to checkpoints/model_checkpoint.h5\n",
      "6/6 [==============================] - 4s 194ms/step - loss: 0.2898 - rmse: 0.5383 - val_loss: 0.0832 - val_rmse: 0.2885\n",
      "Epoch 2/20\n",
      "4/6 [===================>..........] - ETA: 0s - loss: 0.1374 - rmse: 0.3706\n",
      "Epoch 2: val_loss improved from 0.08322 to 0.02256, saving model to checkpoints/model_checkpoint.h5\n",
      "6/6 [==============================] - 0s 33ms/step - loss: 0.1396 - rmse: 0.3736 - val_loss: 0.0226 - val_rmse: 0.1502\n",
      "Epoch 3/20\n",
      "5/6 [========================>.....] - ETA: 0s - loss: 0.0444 - rmse: 0.2108\n",
      "Epoch 3: val_loss did not improve from 0.02256\n",
      "6/6 [==============================] - 0s 30ms/step - loss: 0.0436 - rmse: 0.2087 - val_loss: 0.0327 - val_rmse: 0.1808\n",
      "Epoch 4/20\n",
      "5/6 [========================>.....] - ETA: 0s - loss: 0.0277 - rmse: 0.1664\n",
      "Epoch 4: val_loss improved from 0.02256 to 0.01974, saving model to checkpoints/model_checkpoint.h5\n",
      "6/6 [==============================] - 0s 32ms/step - loss: 0.0268 - rmse: 0.1636 - val_loss: 0.0197 - val_rmse: 0.1405\n",
      "Epoch 5/20\n",
      "5/6 [========================>.....] - ETA: 0s - loss: 0.0195 - rmse: 0.1395\n",
      "Epoch 5: val_loss improved from 0.01974 to 0.00912, saving model to checkpoints/model_checkpoint.h5\n",
      "6/6 [==============================] - 0s 31ms/step - loss: 0.0186 - rmse: 0.1362 - val_loss: 0.0091 - val_rmse: 0.0955\n",
      "Epoch 6/20\n",
      "5/6 [========================>.....] - ETA: 0s - loss: 0.0197 - rmse: 0.1402\n",
      "Epoch 6: val_loss did not improve from 0.00912\n",
      "6/6 [==============================] - 0s 29ms/step - loss: 0.0181 - rmse: 0.1344 - val_loss: 0.0093 - val_rmse: 0.0965\n",
      "Epoch 7/20\n",
      "5/6 [========================>.....] - ETA: 0s - loss: 0.0162 - rmse: 0.1274\n",
      "Epoch 7: val_loss did not improve from 0.00912\n",
      "6/6 [==============================] - 0s 30ms/step - loss: 0.0156 - rmse: 0.1249 - val_loss: 0.0132 - val_rmse: 0.1149\n",
      "Epoch 8/20\n",
      "5/6 [========================>.....] - ETA: 0s - loss: 0.0151 - rmse: 0.1231\n",
      "Epoch 8: val_loss did not improve from 0.00912\n",
      "6/6 [==============================] - 0s 33ms/step - loss: 0.0142 - rmse: 0.1191 - val_loss: 0.0098 - val_rmse: 0.0989\n",
      "Epoch 9/20\n",
      "5/6 [========================>.....] - ETA: 0s - loss: 0.0148 - rmse: 0.1217\n",
      "Epoch 9: val_loss improved from 0.00912 to 0.00767, saving model to checkpoints/model_checkpoint.h5\n",
      "6/6 [==============================] - 0s 33ms/step - loss: 0.0138 - rmse: 0.1174 - val_loss: 0.0077 - val_rmse: 0.0876\n",
      "Epoch 10/20\n",
      "5/6 [========================>.....] - ETA: 0s - loss: 0.0135 - rmse: 0.1161\n",
      "Epoch 10: val_loss did not improve from 0.00767\n",
      "6/6 [==============================] - 0s 30ms/step - loss: 0.0126 - rmse: 0.1120 - val_loss: 0.0088 - val_rmse: 0.0939\n",
      "Epoch 11/20\n",
      "4/6 [===================>..........] - ETA: 0s - loss: 0.0123 - rmse: 0.1110\n",
      "Epoch 11: val_loss did not improve from 0.00767\n",
      "6/6 [==============================] - 0s 32ms/step - loss: 0.0127 - rmse: 0.1127 - val_loss: 0.0086 - val_rmse: 0.0929\n",
      "Epoch 12/20\n",
      "5/6 [========================>.....] - ETA: 0s - loss: 0.0127 - rmse: 0.1129\n",
      "Epoch 12: val_loss improved from 0.00767 to 0.00738, saving model to checkpoints/model_checkpoint.h5\n",
      "6/6 [==============================] - 0s 52ms/step - loss: 0.0120 - rmse: 0.1097 - val_loss: 0.0074 - val_rmse: 0.0859\n",
      "Epoch 13/20\n",
      "4/6 [===================>..........] - ETA: 0s - loss: 0.0126 - rmse: 0.1122\n",
      "Epoch 13: val_loss improved from 0.00738 to 0.00659, saving model to checkpoints/model_checkpoint.h5\n",
      "6/6 [==============================] - 0s 33ms/step - loss: 0.0128 - rmse: 0.1130 - val_loss: 0.0066 - val_rmse: 0.0812\n",
      "Epoch 14/20\n",
      "5/6 [========================>.....] - ETA: 0s - loss: 0.0130 - rmse: 0.1140\n",
      "Epoch 14: val_loss did not improve from 0.00659\n",
      "6/6 [==============================] - 0s 30ms/step - loss: 0.0122 - rmse: 0.1106 - val_loss: 0.0068 - val_rmse: 0.0824\n",
      "Epoch 15/20\n",
      "5/6 [========================>.....] - ETA: 0s - loss: 0.0133 - rmse: 0.1154\n",
      "Epoch 15: val_loss did not improve from 0.00659\n",
      "6/6 [==============================] - 0s 31ms/step - loss: 0.0127 - rmse: 0.1126 - val_loss: 0.0070 - val_rmse: 0.0839\n",
      "Epoch 16/20\n",
      "4/6 [===================>..........] - ETA: 0s - loss: 0.0114 - rmse: 0.1068\n",
      "Epoch 16: val_loss improved from 0.00659 to 0.00628, saving model to checkpoints/model_checkpoint.h5\n",
      "6/6 [==============================] - 0s 40ms/step - loss: 0.0116 - rmse: 0.1076 - val_loss: 0.0063 - val_rmse: 0.0793\n",
      "Epoch 17/20\n",
      "5/6 [========================>.....] - ETA: 0s - loss: 0.0125 - rmse: 0.1119\n",
      "Epoch 17: val_loss did not improve from 0.00628\n",
      "6/6 [==============================] - 0s 32ms/step - loss: 0.0117 - rmse: 0.1082 - val_loss: 0.0065 - val_rmse: 0.0808\n",
      "Epoch 18/20\n",
      "5/6 [========================>.....] - ETA: 0s - loss: 0.0115 - rmse: 0.1073\n",
      "Epoch 18: val_loss did not improve from 0.00628\n",
      "6/6 [==============================] - 0s 32ms/step - loss: 0.0115 - rmse: 0.1074 - val_loss: 0.0066 - val_rmse: 0.0812\n",
      "Epoch 19/20\n",
      "4/6 [===================>..........] - ETA: 0s - loss: 0.0100 - rmse: 0.0999\n",
      "Epoch 19: val_loss improved from 0.00628 to 0.00624, saving model to checkpoints/model_checkpoint.h5\n",
      "6/6 [==============================] - 0s 70ms/step - loss: 0.0101 - rmse: 0.1006 - val_loss: 0.0062 - val_rmse: 0.0790\n",
      "Epoch 20/20\n",
      "5/6 [========================>.....] - ETA: 0s - loss: 0.0101 - rmse: 0.1004\n",
      "Epoch 20: val_loss did not improve from 0.00624\n",
      "6/6 [==============================] - 0s 41ms/step - loss: 0.0099 - rmse: 0.0995 - val_loss: 0.0064 - val_rmse: 0.0797\n"
     ]
    },
    {
     "data": {
      "image/png": "[encoded data removed]",
      "text/plain": [
       "<Figure size 432x288 with 1 Axes>"
      ]
     },
     "metadata": {
      "needs_background": "light"
     },
     "output_type": "display_data"
    }
   ],
   "source": [
    "history = model.fit(\n",
    "    dataset_train,\n",
    "    epochs=config[\"epochs\"],\n",
    "    validation_data=dataset_val,\n",
    "    callbacks=[es_callback, modelckpt_callback],\n",
    ")\n",
    "visualize_loss(history)"
   ]
  },
  {
   "cell_type": "code",
   "execution_count": 7,
   "metadata": {},
   "outputs": [],
   "source": [
    "x, y = prepareTestSetMultiDimensional(x_test, y_test[:,3], config[\"past\"], config[\"future\"])"
   ]
  },
  {
   "cell_type": "code",
   "execution_count": 8,
   "metadata": {},
   "outputs": [
    {
     "name": "stdout",
     "output_type": "stream",
     "text": [
      "1/1 [==============================] - 1s 844ms/step - loss: 0.0081 - rmse: 0.0900\n",
      "---- TEST RESULTS ----\n",
      "MSE loss - 0.008091148920357227\n",
      "RMSE - 0.0899508148431778\n"
     ]
    }
   ],
   "source": [
    "evaluateModelQuick(model, x, y)"
   ]
  },
  {
   "cell_type": "code",
   "execution_count": 9,
   "metadata": {},
   "outputs": [
    {
     "data": {
      "image/png": "[encoded data removed]",
      "text/plain": [
       "<Figure size 432x288 with 1 Axes>"
      ]
     },
     "metadata": {
      "needs_background": "light"
     },
     "output_type": "display_data"
    }
   ],
   "source": [
    "showRegressionExampleMultiDimensional(x[0], y[0], model, scaler)"
   ]
  },
  {
   "cell_type": "code",
   "execution_count": 10,
   "metadata": {},
   "outputs": [
    {
     "name": "stdout",
     "output_type": "stream",
     "text": [
      "Training Started...\n",
      "Iterations:\n",
      "1\n",
      "2\n",
      "3\n",
      "4\n",
      "5\n",
      "6\n",
      "7\n",
      "8\n",
      "9\n",
      "10\n",
      "Done\n"
     ]
    }
   ],
   "source": [
    "evaluateFinal(getModel, dataset_train, dataset_val, config, \"regression_with_news\")"
   ]
  }
 ],
 "metadata": {
  "interpreter": {
   "hash": "922f3f0f14de93c55527dbc5ad53b281c54eefd8b075b625f5e98225241459c0"
  },
  "kernelspec": {
   "display_name": "Python 3.8.11 ('project-56ryZJ7i')",
   "language": "python",
   "name": "python3"
  },
  "language_info": {
   "codemirror_mode": {
    "name": "ipython",
    "version": 3
   },
   "file_extension": ".py",
   "mimetype": "text/x-python",
   "name": "python",
   "nbconvert_exporter": "python",
   "pygments_lexer": "ipython3",
   "version": "3.8.11"
  },
  "orig_nbformat": 4
 },
 "nbformat": 4,
 "nbformat_minor": 2
}
