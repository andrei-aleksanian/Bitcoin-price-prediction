{
  "cells": [
    {
      "cell_type": "code",
      "execution_count": null,
      "metadata": {},
      "outputs": [],
      "source": [
        "import numpy as np\n",
        "from sklearn.feature_selection import SelectKBest\n",
        "from sklearn.feature_selection import f_regression\n",
        "\n",
        "from utils.loadData import loadDataWithNews, loadData\n",
        "from lstm.preprocessing import dataToTimeSeriesMultiDimensional, getDatasetsMultiDimensional, normalizeAtOnce\n",
        "from lstm.model import getModel, evaluateModelQuick, evaluateFinal\n",
        "from lstm.visualization import visualize_loss, show_batch, show_data_simple, showRegressionExampleMultiDimensionalKBest, show_heatmap\n",
        "from lstm.callbacks import es_callback, modelckpt_callback\n",
        "from keras.utils.vis_utils import plot_model"
      ]
    },
    {
      "cell_type": "code",
      "execution_count": null,
      "metadata": {},
      "outputs": [],
      "source": [
        "df = loadData()"
      ]
    },
    {
      "cell_type": "code",
      "execution_count": null,
      "metadata": {},
      "outputs": [],
      "source": [
        "features = df.loc[:, df.columns != 'Date']\n",
        "features = features.loc[:, features.columns != 'Unnamed: 0']\n",
        "features = features.loc[:, features.columns != 'Adj Close']\n",
        "features.head()"
      ]
    },
    {
      "cell_type": "code",
      "execution_count": null,
      "metadata": {},
      "outputs": [],
      "source": [
        "normalized_data, scaler = normalizeAtOnce(features)\n",
        "show_data_simple(normalized_data[:,3], df[\"Date\"])"
      ]
    },
    {
      "cell_type": "code",
      "execution_count": null,
      "metadata": {},
      "outputs": [],
      "source": [
        "# Data correlation\n",
        "show_heatmap(features)"
      ]
    },
    {
      "cell_type": "code",
      "execution_count": null,
      "metadata": {},
      "outputs": [],
      "source": [
        "# pearson's correlation feature selection for numeric input and numeric output\n",
        "X = normalized_data[:-1]\n",
        "y = normalized_data[1:, 3]\n",
        "# define feature selection\n",
        "fs = SelectKBest(score_func=f_regression, k=4)\n",
        "# apply feature selection\n",
        "X_selected = fs.fit_transform(X, y)\n",
        "print(\"Open High Low Close Volume sents\")\n",
        "print(normalized_data[10])\n",
        "print(X_selected[10])\n",
        "\n",
        "# Feature ranking:\n",
        "# Close, High, Low, Open, negative, volume, neutral, positive"
      ]
    },
    {
      "cell_type": "code",
      "execution_count": null,
      "metadata": {},
      "outputs": [],
      "source": [
        "config = {\n",
        "    \"past\": 10,\n",
        "    \"future\": 10,\n",
        "    \"neurons\": 50,\n",
        "    \"batch_size\": 128,\n",
        "    \"epochs\": 50,\n",
        "    \"features\": X_selected.shape[1]\n",
        "}\n",
        "\n",
        "dataset_train, dataset_val, x_test, y_test = getDatasetsMultiDimensional(config, X_selected, 0)\n",
        "\n",
        "\n",
        "for batch in dataset_val.take(1):\n",
        "    inputs, targets = batch\n",
        "    show_batch(inputs[0, :, 0], targets[:config[\"future\"]], config[\"past\"])\n",
        "\n",
        "print(\"Input shape:\", inputs.numpy().shape)\n",
        "print(\"Target shape:\", targets.numpy().shape)"
      ]
    },
    {
      "cell_type": "code",
      "execution_count": null,
      "metadata": {},
      "outputs": [],
      "source": [
        "model = getModel(config)\n",
        "model.summary()"
      ]
    },
    {
      "cell_type": "code",
      "execution_count": null,
      "metadata": {},
      "outputs": [],
      "source": [
        "plot_model(model, to_file='model_plot.png', show_shapes=True, show_layer_names=True)"
      ]
    },
    {
      "cell_type": "code",
      "execution_count": null,
      "metadata": {},
      "outputs": [],
      "source": [
        "history = model.fit(\n",
        "    dataset_train,\n",
        "    epochs=config[\"epochs\"],\n",
        "    validation_data=dataset_val,\n",
        "    callbacks=[es_callback, modelckpt_callback],\n",
        ")\n",
        "visualize_loss(history)"
      ]
    },
    {
      "cell_type": "code",
      "execution_count": null,
      "metadata": {},
      "outputs": [],
      "source": [
        "x, y = dataToTimeSeriesMultiDimensional(x_test, y_test[:,0], config[\"past\"], config[\"future\"])"
      ]
    },
    {
      "cell_type": "code",
      "execution_count": null,
      "metadata": {},
      "outputs": [],
      "source": [
        "y_test.shape"
      ]
    },
    {
      "cell_type": "code",
      "execution_count": null,
      "metadata": {},
      "outputs": [],
      "source": [
        "showRegressionExampleMultiDimensionalKBest(x[-25], y[-25], model, scaler, dim=5)"
      ]
    },
    {
      "cell_type": "code",
      "execution_count": null,
      "metadata": {},
      "outputs": [],
      "source": [
        "evaluateFinal(getModel, dataset_train, dataset_val, x, y, config, \"regression_with_news_features_chosen_new_k4\")"
      ]
    },
    {
      "cell_type": "code",
      "execution_count": null,
      "metadata": {},
      "outputs": [],
      "source": [
        " "
      ]
    }
  ],
  "metadata": {
    "interpreter": {
      "hash": "922f3f0f14de93c55527dbc5ad53b281c54eefd8b075b625f5e98225241459c0"
    },
    "kernelspec": {
      "display_name": "Python 3.8.11 ('project-56ryZJ7i')",
      "language": "python",
      "name": "python3"
    },
    "language_info": {
      "codemirror_mode": {
        "name": "ipython",
        "version": 3
      },
      "file_extension": ".py",
      "mimetype": "text/x-python",
      "name": "python",
      "nbconvert_exporter": "python",
      "pygments_lexer": "ipython3",
      "version": "3.8.11"
    },
    "orig_nbformat": 4
  },
  "nbformat": 4,
  "nbformat_minor": 2
}
