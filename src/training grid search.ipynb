{
 "cells": [
  {
   "cell_type": "code",
   "execution_count": 1,
   "metadata": {},
   "outputs": [],
   "source": [
    "import itertools\n",
    "import pandas as pd\n",
    "import numpy as np\n",
    "\n",
    "from utils.loadData import loadData\n",
    "from lstm.preprocessing import getDatasets, normalizeAtOnce\n",
    "from lstm.model import getModel\n",
    "from lstm.visualization import show_data_simple\n",
    "\n",
    "np.random.seed(5)"
   ]
  },
  {
   "cell_type": "code",
   "execution_count": 2,
   "metadata": {},
   "outputs": [],
   "source": [
    "df = loadData()"
   ]
  },
  {
   "cell_type": "code",
   "execution_count": 3,
   "metadata": {},
   "outputs": [],
   "source": [
    "features = np.array(df[\"Close\"]).reshape(-1, 1)\n",
    "normalized_data, scaler = normalizeAtOnce(features)"
   ]
  },
  {
   "cell_type": "code",
   "execution_count": 4,
   "metadata": {},
   "outputs": [],
   "source": [
    "def getModelBasicRegression(past, future, neurons):\n",
    "  config = {\n",
    "      \"past\": past,  \n",
    "      \"future\": future,  \n",
    "      \"neurons\": neurons,\n",
    "      \"batch_size\": 128,  \n",
    "      \"epochs\": 20,\n",
    "      \"features\": 1\n",
    "  }\n",
    "\n",
    "  model = getModel(config)\n",
    "\n",
    "  return model, config"
   ]
  },
  {
   "cell_type": "code",
   "execution_count": 5,
   "metadata": {},
   "outputs": [
    {
     "name": "stderr",
     "output_type": "stream",
     "text": [
      "2022-04-22 14:27:00.138909: I tensorflow/core/platform/cpu_feature_guard.cc:151] This TensorFlow binary is optimized with oneAPI Deep Neural Network Library (oneDNN) to use the following CPU instructions in performance-critical operations:  AVX2 FMA\n",
      "To enable them in other operations, rebuild TensorFlow with the appropriate compiler flags.\n"
     ]
    },
    {
     "name": "stdout",
     "output_type": "stream",
     "text": [
      "Best parameters are: past - 0.1746838092803955, future - 0.019317508135541856, neurons - 27.718617630004882\n",
      "Done\n"
     ]
    }
   ],
   "source": [
    "def gridSearch(name):\n",
    "  results = np.empty((0, 9))\n",
    "\n",
    "  # define search space\n",
    "  space = {\n",
    "    \"past\": [10, 50, 100],\n",
    "    \"future\": [10, 50],\n",
    "    \"neurons\": [10, 50, 100]\n",
    "  }\n",
    "\n",
    "  pastFutureCombinations = list(itertools.product(space[\"past\"], space[\"future\"], space[\"neurons\"])) # index 0 - past, 1 - future\n",
    "\n",
    "  # loop through combinations of past and future\n",
    "  for combination in pastFutureCombinations:\n",
    "    tempResults = np.empty((0,3))\n",
    "    # build each model 5 times and evaluate mean and std rmse\n",
    "    for i in range(5):\n",
    "      model, config = getModelBasicRegression(combination[0], combination[1], combination[2])\n",
    "      \n",
    "      dataset_train, dataset_val, _, _ = getDatasets(config, normalized_data)\n",
    "\n",
    "      history = model.fit(\n",
    "        dataset_train,\n",
    "        epochs=config[\"epochs\"],\n",
    "        validation_data=dataset_val,\n",
    "        verbose=0\n",
    "      )\n",
    "\n",
    "      rmse = min(history.history[\"val_rmse\"])\n",
    "      mae = min(history.history[\"val_mae\"])\n",
    "      mape = min(history.history[\"val_mape\"])\n",
    "      tempResults = np.vstack((tempResults, [rmse, mae, mape]))\n",
    "\n",
    "    # record the mean and std of the 5 iterations above for this combination of parameters. Record the combination parameters as well\n",
    "    mean_std_stamp = np.array(\n",
    "      [np.mean(tempResults[:,0]), np.std(tempResults[:,0]), np.mean(tempResults[:,1]), np.std(tempResults[:,1]), np.mean(tempResults[:,2]), np.std(tempResults[:,2]), combination[0], combination[1], combination[2]]\n",
    "    ).reshape(-1)\n",
    "    results = np.vstack((results, mean_std_stamp))\n",
    "\n",
    "  # choose the best one\n",
    "  indexBest = np.argmin(results[:, 0])\n",
    "  print(f\"Best parameters are: past - {results[indexBest][2]}, future - {results[indexBest][3]}, neurons - {results[indexBest][4]}\")\n",
    "\n",
    "  # Record results in a csv file\n",
    "  df = pd.DataFrame(results, columns=[\"RMSE mean\", \"RMSE std\", \"MAE mean\", \"MAE std\", \"MAPE mean\", \"MAPE std\", \"past\", \"future\", \"neurons\"])\n",
    "  df.to_csv(f\"resultsGridSearch/{name}.csv\")\n",
    "  print(\"Done\")\n",
    "\n",
    "gridSearch(\"test\")"
   ]
  }
 ],
 "metadata": {
  "interpreter": {
   "hash": "922f3f0f14de93c55527dbc5ad53b281c54eefd8b075b625f5e98225241459c0"
  },
  "kernelspec": {
   "display_name": "Python 3.8.11 ('project-56ryZJ7i')",
   "language": "python",
   "name": "python3"
  },
  "language_info": {
   "codemirror_mode": {
    "name": "ipython",
    "version": 3
   },
   "file_extension": ".py",
   "mimetype": "text/x-python",
   "name": "python",
   "nbconvert_exporter": "python",
   "pygments_lexer": "ipython3",
   "version": "3.8.11"
  },
  "orig_nbformat": 4
 },
 "nbformat": 4,
 "nbformat_minor": 2
}
